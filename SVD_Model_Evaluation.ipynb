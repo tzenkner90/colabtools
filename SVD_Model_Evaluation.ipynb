{
  "nbformat": 4,
  "nbformat_minor": 0,
  "metadata": {
    "kernelspec": {
      "display_name": "Python 2",
      "language": "python",
      "name": "python2"
    },
    "language_info": {
      "codemirror_mode": {
        "name": "ipython",
        "version": 2
      },
      "file_extension": ".py",
      "mimetype": "text/x-python",
      "name": "python",
      "nbconvert_exporter": "python",
      "pygments_lexer": "ipython2",
      "version": "2.7.14"
    },
    "colab": {
      "name": "SVD_Model_Evaluation.ipynb",
      "provenance": [],
      "collapsed_sections": [],
      "include_colab_link": true
    }
  },
  "cells": [
    {
      "cell_type": "markdown",
      "metadata": {
        "id": "view-in-github",
        "colab_type": "text"
      },
      "source": [
        "<a href=\"https://colab.research.google.com/github/tzenkner90/colabtools/blob/master/SVD_Model_Evaluation.ipynb\" target=\"_parent\"><img src=\"https://colab.research.google.com/assets/colab-badge.svg\" alt=\"Open In Colab\"/></a>"
      ]
    },
    {
      "cell_type": "code",
      "metadata": {
        "id": "7d-MyKEgULqW",
        "colab_type": "code",
        "outputId": "0ad85d71-3748-41f6-aeca-e3ab3a2a9f0e",
        "colab": {
          "base_uri": "https://localhost:8080/",
          "height": 34
        }
      },
      "source": [
        "# Comment to test if working\n",
        "# Load the Drive helper and mount\n",
        "from google.colab import drive\n",
        "\n",
        "# This will prompt for authorization.\n",
        "drive.mount('/content/drive')"
      ],
      "execution_count": 7,
      "outputs": [
        {
          "output_type": "stream",
          "text": [
            "Drive already mounted at /content/drive; to attempt to forcibly remount, call drive.mount(\"/content/drive\", force_remount=True).\n"
          ],
          "name": "stdout"
        }
      ]
    },
    {
      "cell_type": "code",
      "metadata": {
        "id": "kc7mWbAiWRfR",
        "colab_type": "code",
        "colab": {
          "base_uri": "https://localhost:8080/",
          "height": 34
        },
        "outputId": "42fa04a2-80a6-4cd2-86b4-084dc06a6932"
      },
      "source": [
        "cd \"/content/drive/My Drive/Colab Notebooks/Data Engineering Group Project\""
      ],
      "execution_count": 62,
      "outputs": [
        {
          "output_type": "stream",
          "text": [
            "/content/drive/My Drive/Colab Notebooks/Data Engineering Group Project\n"
          ],
          "name": "stdout"
        }
      ]
    },
    {
      "cell_type": "code",
      "metadata": {
        "id": "hSTOpyIchrt2",
        "colab_type": "code",
        "colab": {
          "base_uri": "https://localhost:8080/",
          "height": 102
        },
        "outputId": "c6bd6137-6bd6-46d8-bb9d-983887defe07"
      },
      "source": [
        "pip install scikit-surprise"
      ],
      "execution_count": 67,
      "outputs": [
        {
          "output_type": "stream",
          "text": [
            "Requirement already satisfied: scikit-surprise in /usr/local/lib/python2.7/dist-packages (1.1.0)\n",
            "Requirement already satisfied: scipy>=1.0.0 in /usr/local/lib/python2.7/dist-packages (from scikit-surprise) (1.2.2)\n",
            "Requirement already satisfied: six>=1.10.0 in /usr/local/lib/python2.7/dist-packages (from scikit-surprise) (1.12.0)\n",
            "Requirement already satisfied: joblib>=0.11 in /usr/local/lib/python2.7/dist-packages (from scikit-surprise) (0.12.5)\n",
            "Requirement already satisfied: numpy>=1.11.2 in /usr/local/lib/python2.7/dist-packages (from scikit-surprise) (1.16.4)\n"
          ],
          "name": "stdout"
        }
      ]
    },
    {
      "cell_type": "markdown",
      "metadata": {
        "id": "eZuKXnKUKzro",
        "colab_type": "text"
      },
      "source": [
        "## Loading the Dataset"
      ]
    },
    {
      "cell_type": "code",
      "metadata": {
        "id": "QV8MiT2SMRMb",
        "colab_type": "code",
        "colab": {}
      },
      "source": [
        "# Import libraries\n",
        "import surprise\n",
        "import numpy as np\n",
        "import pandas as pd\n",
        "\n",
        "from surprise import Reader, Dataset, SVD\n",
        "from surprise.model_selection import cross_validate\n",
        "\n",
        "\n",
        "# Reading ratings file\n",
        "ratings = pd.read_csv('/content/drive/My Drive/Data Engineering/Data/data-as-csv-udata.csv',)\n",
        "ratings.rename(columns={'movieId': 'movie_id', 'userId': 'user_id'}, inplace=True)"
      ],
      "execution_count": 0,
      "outputs": []
    },
    {
      "cell_type": "code",
      "metadata": {
        "id": "--Jr1OdAeeRq",
        "colab_type": "code",
        "colab": {
          "base_uri": "https://localhost:8080/",
          "height": 306
        },
        "outputId": "0ccee0b5-70dc-474e-a037-4b1df9282c70"
      },
      "source": [
        "# Import libraries from Surprise package\n",
        "import surprise\n",
        "from surprise import Reader, Dataset, SVD\n",
        "from surprise.model_selection import cross_validate\n",
        "\n",
        "# Load Reader library\n",
        "reader = Reader()\n",
        "\n",
        "# Load ratings dataset with Dataset library\n",
        "data = Dataset.load_from_df(ratings[['user_id', 'movie_id', 'rating']], reader)\n",
        "\n",
        "# Use the SVD algorithm.\n",
        "algo = SVD()\n",
        "\n",
        "# Run 5-fold cross-validation and print results.\n",
        "cross_validate(algo, data, measures=['RMSE'], cv=5, verbose=True)"
      ],
      "execution_count": 69,
      "outputs": [
        {
          "output_type": "stream",
          "text": [
            "Evaluating RMSE of algorithm SVD on 5 split(s).\n",
            "\n",
            "                  Fold 1  Fold 2  Fold 3  Fold 4  Fold 5  Mean    Std     \n",
            "RMSE (testset)    0.9337  0.9368  0.9388  0.9328  0.9328  0.9350  0.0024  \n",
            "Fit time          12.65   13.26   12.70   12.31   12.51   12.69   0.32    \n",
            "Test time         0.27    0.15    0.26    0.14    0.25    0.21    0.06    \n"
          ],
          "name": "stdout"
        },
        {
          "output_type": "execute_result",
          "data": {
            "text/plain": [
              "{u'fit_time': (12.652576923370361,\n",
              "  13.263004064559937,\n",
              "  12.695206880569458,\n",
              "  12.30933403968811,\n",
              "  12.507362842559814),\n",
              " u'test_rmse': array([0.93367127, 0.93676175, 0.93877068, 0.93275716, 0.93280987]),\n",
              " u'test_time': (0.26734089851379395,\n",
              "  0.14693689346313477,\n",
              "  0.25637197494506836,\n",
              "  0.13973093032836914,\n",
              "  0.24692296981811523)}"
            ]
          },
          "metadata": {
            "tags": []
          },
          "execution_count": 69
        }
      ]
    }
  ]
}